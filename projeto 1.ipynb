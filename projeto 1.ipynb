{
 "cells": [
  {
   "cell_type": "markdown",
   "metadata": {
    "collapsed": true
   },
   "source": [
    "___\n",
    "# Ciência dos Dados - PROJETO 1"
   ]
  },
  {
   "cell_type": "markdown",
   "metadata": {
    "collapsed": true
   },
   "source": [
    "# Renan Cabral\n",
    "___"
   ]
  },
  {
   "cell_type": "markdown",
   "metadata": {},
   "source": [
    "___\n",
    "## Introdução\n",
    "\n",
    "Ao longo desta projeto de análise do banco de dados da PNAD serão análisados os dados de acessibilidade à internet e acesso a banda larga no Brasil, em todas as suas regiões, observando regiões como São Paulo e Maranhão a fim de analisar fatores que possam afetar e presença deste (acessibilidade e banda larga), além de observar o avanço da acessibilidade no Brasil ao longo dos anos pesquisados."
   ]
  },
  {
   "cell_type": "markdown",
   "metadata": {
    "collapsed": true
   },
   "source": [
    "## Pergunta:\n",
    "\n",
    "Qual o principal fator ou fatores que afeta a acessibilidade à banda larga no Brasil ? Levando em consideração fatores como região, PIB do estado, renda média dentre outros."
   ]
  },
  {
   "cell_type": "code",
   "execution_count": 1,
   "metadata": {
    "collapsed": true
   },
   "outputs": [],
   "source": [
    "%matplotlib inline\n",
    "import pandas as pd\n",
    "import matplotlib.pyplot as plt\n",
    "import numpy as np\n",
    "import os"
   ]
  },
  {
   "cell_type": "code",
   "execution_count": 2,
   "metadata": {},
   "outputs": [
    {
     "name": "stdout",
     "output_type": "stream",
     "text": [
      "Esperamos trabalhar no diretório\n",
      "C:\\Users\\Renan Cabral\\Documents\\GitHub\\Ci-ncia_dos_dados_2017\n"
     ]
    }
   ],
   "source": [
    "print('Esperamos trabalhar no diretório')\n",
    "print(os.getcwd())"
   ]
  },
  {
   "cell_type": "code",
   "execution_count": 3,
   "metadata": {
    "collapsed": true
   },
   "outputs": [],
   "source": [
    "dados=pd.read_csv('DOM2015csv.zip',sep=',')\n",
    "dados_geral=pd.read_csv('DOM2015csv.zip',sep=',')"
   ]
  },
  {
   "cell_type": "code",
   "execution_count": null,
   "metadata": {
    "collapsed": true
   },
   "outputs": [],
   "source": []
  },
  {
   "cell_type": "code",
   "execution_count": 4,
   "metadata": {},
   "outputs": [
    {
     "data": {
      "text/plain": [
       "(20517, 81)"
      ]
     },
     "execution_count": 4,
     "metadata": {},
     "output_type": "execute_result"
    }
   ],
   "source": [
    "dados.UF\n",
    "\n",
    "dados=dados[(dados.UF==35) | (dados.UF==21)]\n",
    "dados.shape\n"
   ]
  },
  {
   "cell_type": "code",
   "execution_count": 5,
   "metadata": {},
   "outputs": [],
   "source": [
    "#dados Brasil inteiro:\n",
    "\n",
    "dados_geral.V02322=dados_geral.V02322.astype(\"category\") #acesso no próprio domicílio\n",
    "dados_geral.V02322.cat.categories=(['Sim', 'Não'])\n",
    "\n",
    "dados_geral.V02323=dados_geral.V02323.astype(\"category\") #acesso por microcomputador\n",
    "dados_geral.V02323.cat.categories=(['Sim', 'Não'])\n",
    "\n",
    "dados_geral.V02324=dados_geral.V02324.astype(\"category\") #acesso por telefone\n",
    "dados_geral.V02324.cat.categories=(['Sim', 'Não'])\n",
    "\n",
    "dados_geral.V02325=dados_geral.V02325.astype(\"category\") #acesso por tablet\n",
    "dados_geral.V02325.cat.categories=(['Sim', 'Não'])\n",
    "\n",
    "dados_geral.V02326=dados_geral.V02326.astype(\"category\") #acesso pela TV\n",
    "dados_geral.V02326.cat.categories=(['Sim', 'Não'])\n",
    "\n",
    "dados_geral.V02327=dados_geral.V02327.astype(\"category\") #acesso por outras formas\n",
    "dados_geral.V02327.cat.categories=(['Sim', 'Não'])\n",
    "\n",
    "dados_geral.V02424=dados_geral.V02424.astype(\"category\") #acesso através de rede celular \n",
    "dados_geral.V02424.cat.categories=(['Sim', 'Não'])\n",
    "\n",
    "dados_geral.V02425=dados_geral.V02425.astype(\"category\") #acesso por linha telefônica\n",
    "dados_geral.V02425.cat.categories=(['Sim', 'Não'])\n",
    "\n",
    "dados_geral.V02426=dados_geral.V02426.astype(\"category\") #acesso de banda larga \n",
    "dados_geral.V02426.cat.categories=(['Sim', 'Não'])\n",
    "\n",
    "dados_geral.V0202=dados_geral.V0202.astype(\"category\") #tipo de domicílio\n",
    "dados_geral.V0202.cat.categories=([\"Casa\",\"Apartamento\",\"Cômodo\"])\n",
    "\n",
    "#dados_geral.V8005=dados_geral.V8005.astype(\"category\") #idade\n",
    "\n",
    "#dados_geral.V4622 #faixa da renda mensal\n",
    "#dados_geral.V4621 #renda mensal\n",
    "\n",
    "dados_geral.UF=dados_geral.UF.astype(\"category\") #estados do Brasil\n",
    "dados_geral.UF.cat.categories=(['Rondônia', 'Acre', 'Amazonas', 'Roraima', 'Pará', 'Amapá', 'Tocantins', 'Maranhão', 'Piauí', 'Ceará', 'Rio Grande do Norte', 'Paraíba', 'Pernambuco', 'Alagoas', 'Sergipe', 'Bahia', 'Minas Gerais', 'Espírito Santo', 'Rio de Janeiro', 'São Paulo', 'Paraná', 'Santa Catarina', 'Rio Grande do Sul', 'Mato Grosso do Sul', 'Mato Grosso', 'Goiás', 'Distrito Federal'])\n"
   ]
  },
  {
   "cell_type": "code",
   "execution_count": 6,
   "metadata": {
    "scrolled": true
   },
   "outputs": [
    {
     "data": {
      "text/html": [
       "<div>\n",
       "<table border=\"1\" class=\"dataframe\">\n",
       "  <thead>\n",
       "    <tr style=\"text-align: right;\">\n",
       "      <th></th>\n",
       "      <th>acesso_a_banda_larga</th>\n",
       "      <th>acesso por telefone</th>\n",
       "      <th>estado</th>\n",
       "      <th>renda_mensal</th>\n",
       "      <th>faixa_da_renda_mensal</th>\n",
       "      <th>Tipo_de_domicílio</th>\n",
       "      <th>acesso_a_internet</th>\n",
       "      <th>Região</th>\n",
       "    </tr>\n",
       "  </thead>\n",
       "  <tbody>\n",
       "    <tr>\n",
       "      <th>2</th>\n",
       "      <td>Sim</td>\n",
       "      <td>Não</td>\n",
       "      <td>Rondônia</td>\n",
       "      <td>1150.0</td>\n",
       "      <td>4.0</td>\n",
       "      <td>Apartamento</td>\n",
       "      <td>possuí</td>\n",
       "      <td>Norte</td>\n",
       "    </tr>\n",
       "    <tr>\n",
       "      <th>3</th>\n",
       "      <td>Sim</td>\n",
       "      <td>Sim</td>\n",
       "      <td>Rondônia</td>\n",
       "      <td>793.0</td>\n",
       "      <td>4.0</td>\n",
       "      <td>Casa</td>\n",
       "      <td>possuí</td>\n",
       "      <td>Norte</td>\n",
       "    </tr>\n",
       "    <tr>\n",
       "      <th>5</th>\n",
       "      <td>Sim</td>\n",
       "      <td>Não</td>\n",
       "      <td>Rondônia</td>\n",
       "      <td>1990.0</td>\n",
       "      <td>5.0</td>\n",
       "      <td>Casa</td>\n",
       "      <td>possuí</td>\n",
       "      <td>Norte</td>\n",
       "    </tr>\n",
       "    <tr>\n",
       "      <th>8</th>\n",
       "      <td>Sim</td>\n",
       "      <td>Sim</td>\n",
       "      <td>Rondônia</td>\n",
       "      <td>818.0</td>\n",
       "      <td>4.0</td>\n",
       "      <td>Casa</td>\n",
       "      <td>possuí</td>\n",
       "      <td>Norte</td>\n",
       "    </tr>\n",
       "    <tr>\n",
       "      <th>10</th>\n",
       "      <td>Sim</td>\n",
       "      <td>Sim</td>\n",
       "      <td>Rondônia</td>\n",
       "      <td>1716.0</td>\n",
       "      <td>5.0</td>\n",
       "      <td>Casa</td>\n",
       "      <td>possuí</td>\n",
       "      <td>Norte</td>\n",
       "    </tr>\n",
       "    <tr>\n",
       "      <th>11</th>\n",
       "      <td>Sim</td>\n",
       "      <td>Sim</td>\n",
       "      <td>Rondônia</td>\n",
       "      <td>2500.0</td>\n",
       "      <td>6.0</td>\n",
       "      <td>Casa</td>\n",
       "      <td>possuí</td>\n",
       "      <td>Norte</td>\n",
       "    </tr>\n",
       "    <tr>\n",
       "      <th>13</th>\n",
       "      <td>Sim</td>\n",
       "      <td>Sim</td>\n",
       "      <td>Rondônia</td>\n",
       "      <td>1400.0</td>\n",
       "      <td>4.0</td>\n",
       "      <td>Apartamento</td>\n",
       "      <td>possuí</td>\n",
       "      <td>Norte</td>\n",
       "    </tr>\n",
       "    <tr>\n",
       "      <th>15</th>\n",
       "      <td>Sim</td>\n",
       "      <td>Sim</td>\n",
       "      <td>Rondônia</td>\n",
       "      <td>666.0</td>\n",
       "      <td>3.0</td>\n",
       "      <td>Apartamento</td>\n",
       "      <td>possuí</td>\n",
       "      <td>Norte</td>\n",
       "    </tr>\n",
       "    <tr>\n",
       "      <th>17</th>\n",
       "      <td>Sim</td>\n",
       "      <td>Sim</td>\n",
       "      <td>Rondônia</td>\n",
       "      <td>750.0</td>\n",
       "      <td>3.0</td>\n",
       "      <td>Casa</td>\n",
       "      <td>possuí</td>\n",
       "      <td>Norte</td>\n",
       "    </tr>\n",
       "    <tr>\n",
       "      <th>18</th>\n",
       "      <td>Sim</td>\n",
       "      <td>Sim</td>\n",
       "      <td>Rondônia</td>\n",
       "      <td>1437.0</td>\n",
       "      <td>4.0</td>\n",
       "      <td>Casa</td>\n",
       "      <td>possuí</td>\n",
       "      <td>Norte</td>\n",
       "    </tr>\n",
       "    <tr>\n",
       "      <th>19</th>\n",
       "      <td>Não</td>\n",
       "      <td>Não</td>\n",
       "      <td>Rondônia</td>\n",
       "      <td>600.0</td>\n",
       "      <td>3.0</td>\n",
       "      <td>Casa</td>\n",
       "      <td>possuí</td>\n",
       "      <td>Norte</td>\n",
       "    </tr>\n",
       "    <tr>\n",
       "      <th>20</th>\n",
       "      <td>Sim</td>\n",
       "      <td>Sim</td>\n",
       "      <td>Rondônia</td>\n",
       "      <td>933.0</td>\n",
       "      <td>4.0</td>\n",
       "      <td>Casa</td>\n",
       "      <td>possuí</td>\n",
       "      <td>Norte</td>\n",
       "    </tr>\n",
       "    <tr>\n",
       "      <th>23</th>\n",
       "      <td>Sim</td>\n",
       "      <td>Sim</td>\n",
       "      <td>Rondônia</td>\n",
       "      <td>2666.0</td>\n",
       "      <td>6.0</td>\n",
       "      <td>Casa</td>\n",
       "      <td>possuí</td>\n",
       "      <td>Norte</td>\n",
       "    </tr>\n",
       "    <tr>\n",
       "      <th>27</th>\n",
       "      <td>Sim</td>\n",
       "      <td>Sim</td>\n",
       "      <td>Rondônia</td>\n",
       "      <td>3325.0</td>\n",
       "      <td>6.0</td>\n",
       "      <td>Casa</td>\n",
       "      <td>possuí</td>\n",
       "      <td>Norte</td>\n",
       "    </tr>\n",
       "    <tr>\n",
       "      <th>28</th>\n",
       "      <td>Sim</td>\n",
       "      <td>Sim</td>\n",
       "      <td>Rondônia</td>\n",
       "      <td>3500.0</td>\n",
       "      <td>6.0</td>\n",
       "      <td>Casa</td>\n",
       "      <td>possuí</td>\n",
       "      <td>Norte</td>\n",
       "    </tr>\n",
       "    <tr>\n",
       "      <th>29</th>\n",
       "      <td>Sim</td>\n",
       "      <td>Sim</td>\n",
       "      <td>Rondônia</td>\n",
       "      <td>1172.0</td>\n",
       "      <td>4.0</td>\n",
       "      <td>Casa</td>\n",
       "      <td>possuí</td>\n",
       "      <td>Norte</td>\n",
       "    </tr>\n",
       "    <tr>\n",
       "      <th>31</th>\n",
       "      <td>Sim</td>\n",
       "      <td>Sim</td>\n",
       "      <td>Rondônia</td>\n",
       "      <td>3000.0</td>\n",
       "      <td>6.0</td>\n",
       "      <td>Casa</td>\n",
       "      <td>possuí</td>\n",
       "      <td>Norte</td>\n",
       "    </tr>\n",
       "    <tr>\n",
       "      <th>32</th>\n",
       "      <td>Não</td>\n",
       "      <td>Não</td>\n",
       "      <td>Rondônia</td>\n",
       "      <td>366.0</td>\n",
       "      <td>2.0</td>\n",
       "      <td>Casa</td>\n",
       "      <td>possuí</td>\n",
       "      <td>Norte</td>\n",
       "    </tr>\n",
       "    <tr>\n",
       "      <th>33</th>\n",
       "      <td>Não</td>\n",
       "      <td>Não</td>\n",
       "      <td>Rondônia</td>\n",
       "      <td>175.0</td>\n",
       "      <td>1.0</td>\n",
       "      <td>Casa</td>\n",
       "      <td>possuí</td>\n",
       "      <td>Norte</td>\n",
       "    </tr>\n",
       "    <tr>\n",
       "      <th>37</th>\n",
       "      <td>Não</td>\n",
       "      <td>Sim</td>\n",
       "      <td>Rondônia</td>\n",
       "      <td>596.0</td>\n",
       "      <td>3.0</td>\n",
       "      <td>Casa</td>\n",
       "      <td>possuí</td>\n",
       "      <td>Norte</td>\n",
       "    </tr>\n",
       "    <tr>\n",
       "      <th>39</th>\n",
       "      <td>Não</td>\n",
       "      <td>Sim</td>\n",
       "      <td>Rondônia</td>\n",
       "      <td>196.0</td>\n",
       "      <td>1.0</td>\n",
       "      <td>Apartamento</td>\n",
       "      <td>possuí</td>\n",
       "      <td>Norte</td>\n",
       "    </tr>\n",
       "    <tr>\n",
       "      <th>42</th>\n",
       "      <td>Não</td>\n",
       "      <td>Não</td>\n",
       "      <td>Rondônia</td>\n",
       "      <td>975.0</td>\n",
       "      <td>4.0</td>\n",
       "      <td>Casa</td>\n",
       "      <td>possuí</td>\n",
       "      <td>Norte</td>\n",
       "    </tr>\n",
       "    <tr>\n",
       "      <th>43</th>\n",
       "      <td>Não</td>\n",
       "      <td>Não</td>\n",
       "      <td>Rondônia</td>\n",
       "      <td>850.0</td>\n",
       "      <td>4.0</td>\n",
       "      <td>Casa</td>\n",
       "      <td>possuí</td>\n",
       "      <td>Norte</td>\n",
       "    </tr>\n",
       "    <tr>\n",
       "      <th>44</th>\n",
       "      <td>Não</td>\n",
       "      <td>Sim</td>\n",
       "      <td>Rondônia</td>\n",
       "      <td>2000.0</td>\n",
       "      <td>5.0</td>\n",
       "      <td>Casa</td>\n",
       "      <td>possuí</td>\n",
       "      <td>Norte</td>\n",
       "    </tr>\n",
       "    <tr>\n",
       "      <th>45</th>\n",
       "      <td>Não</td>\n",
       "      <td>Não</td>\n",
       "      <td>Rondônia</td>\n",
       "      <td>480.0</td>\n",
       "      <td>3.0</td>\n",
       "      <td>Casa</td>\n",
       "      <td>possuí</td>\n",
       "      <td>Norte</td>\n",
       "    </tr>\n",
       "    <tr>\n",
       "      <th>50</th>\n",
       "      <td>Não</td>\n",
       "      <td>Sim</td>\n",
       "      <td>Rondônia</td>\n",
       "      <td>666.0</td>\n",
       "      <td>3.0</td>\n",
       "      <td>Casa</td>\n",
       "      <td>possuí</td>\n",
       "      <td>Norte</td>\n",
       "    </tr>\n",
       "    <tr>\n",
       "      <th>54</th>\n",
       "      <td>Não</td>\n",
       "      <td>Sim</td>\n",
       "      <td>Rondônia</td>\n",
       "      <td>2100.0</td>\n",
       "      <td>5.0</td>\n",
       "      <td>Apartamento</td>\n",
       "      <td>possuí</td>\n",
       "      <td>Norte</td>\n",
       "    </tr>\n",
       "    <tr>\n",
       "      <th>66</th>\n",
       "      <td>Não</td>\n",
       "      <td>Sim</td>\n",
       "      <td>Rondônia</td>\n",
       "      <td>635.0</td>\n",
       "      <td>3.0</td>\n",
       "      <td>Casa</td>\n",
       "      <td>possuí</td>\n",
       "      <td>Norte</td>\n",
       "    </tr>\n",
       "    <tr>\n",
       "      <th>71</th>\n",
       "      <td>Sim</td>\n",
       "      <td>Sim</td>\n",
       "      <td>Rondônia</td>\n",
       "      <td>550.0</td>\n",
       "      <td>3.0</td>\n",
       "      <td>Casa</td>\n",
       "      <td>possuí</td>\n",
       "      <td>Norte</td>\n",
       "    </tr>\n",
       "    <tr>\n",
       "      <th>72</th>\n",
       "      <td>Não</td>\n",
       "      <td>Sim</td>\n",
       "      <td>Rondônia</td>\n",
       "      <td>590.0</td>\n",
       "      <td>3.0</td>\n",
       "      <td>Casa</td>\n",
       "      <td>possuí</td>\n",
       "      <td>Norte</td>\n",
       "    </tr>\n",
       "    <tr>\n",
       "      <th>...</th>\n",
       "      <td>...</td>\n",
       "      <td>...</td>\n",
       "      <td>...</td>\n",
       "      <td>...</td>\n",
       "      <td>...</td>\n",
       "      <td>...</td>\n",
       "      <td>...</td>\n",
       "      <td>...</td>\n",
       "    </tr>\n",
       "    <tr>\n",
       "      <th>151134</th>\n",
       "      <td>Não</td>\n",
       "      <td>Sim</td>\n",
       "      <td>Distrito Federal</td>\n",
       "      <td>571.0</td>\n",
       "      <td>3.0</td>\n",
       "      <td>Casa</td>\n",
       "      <td>possuí</td>\n",
       "      <td>Centro-Oeste</td>\n",
       "    </tr>\n",
       "    <tr>\n",
       "      <th>151135</th>\n",
       "      <td>Sim</td>\n",
       "      <td>Sim</td>\n",
       "      <td>Distrito Federal</td>\n",
       "      <td>416.0</td>\n",
       "      <td>3.0</td>\n",
       "      <td>Casa</td>\n",
       "      <td>possuí</td>\n",
       "      <td>Centro-Oeste</td>\n",
       "    </tr>\n",
       "    <tr>\n",
       "      <th>151139</th>\n",
       "      <td>Sim</td>\n",
       "      <td>Sim</td>\n",
       "      <td>Distrito Federal</td>\n",
       "      <td>394.0</td>\n",
       "      <td>2.0</td>\n",
       "      <td>Casa</td>\n",
       "      <td>possuí</td>\n",
       "      <td>Centro-Oeste</td>\n",
       "    </tr>\n",
       "    <tr>\n",
       "      <th>151140</th>\n",
       "      <td>Sim</td>\n",
       "      <td>Sim</td>\n",
       "      <td>Distrito Federal</td>\n",
       "      <td>525.0</td>\n",
       "      <td>3.0</td>\n",
       "      <td>Casa</td>\n",
       "      <td>possuí</td>\n",
       "      <td>Centro-Oeste</td>\n",
       "    </tr>\n",
       "    <tr>\n",
       "      <th>151142</th>\n",
       "      <td>Não</td>\n",
       "      <td>Sim</td>\n",
       "      <td>Distrito Federal</td>\n",
       "      <td>452.0</td>\n",
       "      <td>3.0</td>\n",
       "      <td>Casa</td>\n",
       "      <td>possuí</td>\n",
       "      <td>Centro-Oeste</td>\n",
       "    </tr>\n",
       "    <tr>\n",
       "      <th>151143</th>\n",
       "      <td>Sim</td>\n",
       "      <td>Sim</td>\n",
       "      <td>Distrito Federal</td>\n",
       "      <td>2527.0</td>\n",
       "      <td>6.0</td>\n",
       "      <td>Casa</td>\n",
       "      <td>possuí</td>\n",
       "      <td>Centro-Oeste</td>\n",
       "    </tr>\n",
       "    <tr>\n",
       "      <th>151144</th>\n",
       "      <td>Sim</td>\n",
       "      <td>Sim</td>\n",
       "      <td>Distrito Federal</td>\n",
       "      <td>2500.0</td>\n",
       "      <td>6.0</td>\n",
       "      <td>Casa</td>\n",
       "      <td>possuí</td>\n",
       "      <td>Centro-Oeste</td>\n",
       "    </tr>\n",
       "    <tr>\n",
       "      <th>151146</th>\n",
       "      <td>Não</td>\n",
       "      <td>Sim</td>\n",
       "      <td>Distrito Federal</td>\n",
       "      <td>950.0</td>\n",
       "      <td>4.0</td>\n",
       "      <td>Casa</td>\n",
       "      <td>possuí</td>\n",
       "      <td>Centro-Oeste</td>\n",
       "    </tr>\n",
       "    <tr>\n",
       "      <th>151147</th>\n",
       "      <td>Sim</td>\n",
       "      <td>Não</td>\n",
       "      <td>Distrito Federal</td>\n",
       "      <td>1109.0</td>\n",
       "      <td>4.0</td>\n",
       "      <td>Casa</td>\n",
       "      <td>possuí</td>\n",
       "      <td>Centro-Oeste</td>\n",
       "    </tr>\n",
       "    <tr>\n",
       "      <th>151148</th>\n",
       "      <td>Não</td>\n",
       "      <td>Sim</td>\n",
       "      <td>Distrito Federal</td>\n",
       "      <td>283.0</td>\n",
       "      <td>2.0</td>\n",
       "      <td>Casa</td>\n",
       "      <td>possuí</td>\n",
       "      <td>Centro-Oeste</td>\n",
       "    </tr>\n",
       "    <tr>\n",
       "      <th>151150</th>\n",
       "      <td>Não</td>\n",
       "      <td>Sim</td>\n",
       "      <td>Distrito Federal</td>\n",
       "      <td>1427.0</td>\n",
       "      <td>4.0</td>\n",
       "      <td>Casa</td>\n",
       "      <td>possuí</td>\n",
       "      <td>Centro-Oeste</td>\n",
       "    </tr>\n",
       "    <tr>\n",
       "      <th>151151</th>\n",
       "      <td>Não</td>\n",
       "      <td>Sim</td>\n",
       "      <td>Distrito Federal</td>\n",
       "      <td>355.0</td>\n",
       "      <td>2.0</td>\n",
       "      <td>Casa</td>\n",
       "      <td>possuí</td>\n",
       "      <td>Centro-Oeste</td>\n",
       "    </tr>\n",
       "    <tr>\n",
       "      <th>151153</th>\n",
       "      <td>Não</td>\n",
       "      <td>Sim</td>\n",
       "      <td>Distrito Federal</td>\n",
       "      <td>1100.0</td>\n",
       "      <td>4.0</td>\n",
       "      <td>Casa</td>\n",
       "      <td>possuí</td>\n",
       "      <td>Centro-Oeste</td>\n",
       "    </tr>\n",
       "    <tr>\n",
       "      <th>151156</th>\n",
       "      <td>Não</td>\n",
       "      <td>Sim</td>\n",
       "      <td>Distrito Federal</td>\n",
       "      <td>5000.0</td>\n",
       "      <td>7.0</td>\n",
       "      <td>Casa</td>\n",
       "      <td>possuí</td>\n",
       "      <td>Centro-Oeste</td>\n",
       "    </tr>\n",
       "    <tr>\n",
       "      <th>151158</th>\n",
       "      <td>Sim</td>\n",
       "      <td>Sim</td>\n",
       "      <td>Distrito Federal</td>\n",
       "      <td>5166.0</td>\n",
       "      <td>7.0</td>\n",
       "      <td>Casa</td>\n",
       "      <td>possuí</td>\n",
       "      <td>Centro-Oeste</td>\n",
       "    </tr>\n",
       "    <tr>\n",
       "      <th>151159</th>\n",
       "      <td>Sim</td>\n",
       "      <td>Sim</td>\n",
       "      <td>Distrito Federal</td>\n",
       "      <td>6066.0</td>\n",
       "      <td>7.0</td>\n",
       "      <td>Casa</td>\n",
       "      <td>possuí</td>\n",
       "      <td>Centro-Oeste</td>\n",
       "    </tr>\n",
       "    <tr>\n",
       "      <th>151161</th>\n",
       "      <td>Sim</td>\n",
       "      <td>Sim</td>\n",
       "      <td>Distrito Federal</td>\n",
       "      <td>6200.0</td>\n",
       "      <td>7.0</td>\n",
       "      <td>Casa</td>\n",
       "      <td>possuí</td>\n",
       "      <td>Centro-Oeste</td>\n",
       "    </tr>\n",
       "    <tr>\n",
       "      <th>151163</th>\n",
       "      <td>Sim</td>\n",
       "      <td>Sim</td>\n",
       "      <td>Distrito Federal</td>\n",
       "      <td>2500.0</td>\n",
       "      <td>6.0</td>\n",
       "      <td>Casa</td>\n",
       "      <td>possuí</td>\n",
       "      <td>Centro-Oeste</td>\n",
       "    </tr>\n",
       "    <tr>\n",
       "      <th>151164</th>\n",
       "      <td>Sim</td>\n",
       "      <td>Sim</td>\n",
       "      <td>Distrito Federal</td>\n",
       "      <td>6000.0</td>\n",
       "      <td>7.0</td>\n",
       "      <td>Casa</td>\n",
       "      <td>possuí</td>\n",
       "      <td>Centro-Oeste</td>\n",
       "    </tr>\n",
       "    <tr>\n",
       "      <th>151165</th>\n",
       "      <td>Sim</td>\n",
       "      <td>Sim</td>\n",
       "      <td>Distrito Federal</td>\n",
       "      <td>7600.0</td>\n",
       "      <td>7.0</td>\n",
       "      <td>Casa</td>\n",
       "      <td>possuí</td>\n",
       "      <td>Centro-Oeste</td>\n",
       "    </tr>\n",
       "    <tr>\n",
       "      <th>151167</th>\n",
       "      <td>Sim</td>\n",
       "      <td>Sim</td>\n",
       "      <td>Distrito Federal</td>\n",
       "      <td>9375.0</td>\n",
       "      <td>7.0</td>\n",
       "      <td>Casa</td>\n",
       "      <td>possuí</td>\n",
       "      <td>Centro-Oeste</td>\n",
       "    </tr>\n",
       "    <tr>\n",
       "      <th>151168</th>\n",
       "      <td>Sim</td>\n",
       "      <td>Sim</td>\n",
       "      <td>Distrito Federal</td>\n",
       "      <td>19850.0</td>\n",
       "      <td>7.0</td>\n",
       "      <td>Casa</td>\n",
       "      <td>possuí</td>\n",
       "      <td>Centro-Oeste</td>\n",
       "    </tr>\n",
       "    <tr>\n",
       "      <th>151169</th>\n",
       "      <td>Sim</td>\n",
       "      <td>Sim</td>\n",
       "      <td>Distrito Federal</td>\n",
       "      <td>10566.0</td>\n",
       "      <td>7.0</td>\n",
       "      <td>Casa</td>\n",
       "      <td>possuí</td>\n",
       "      <td>Centro-Oeste</td>\n",
       "    </tr>\n",
       "    <tr>\n",
       "      <th>151170</th>\n",
       "      <td>Sim</td>\n",
       "      <td>Sim</td>\n",
       "      <td>Distrito Federal</td>\n",
       "      <td>15320.0</td>\n",
       "      <td>7.0</td>\n",
       "      <td>Casa</td>\n",
       "      <td>possuí</td>\n",
       "      <td>Centro-Oeste</td>\n",
       "    </tr>\n",
       "    <tr>\n",
       "      <th>151171</th>\n",
       "      <td>Sim</td>\n",
       "      <td>Sim</td>\n",
       "      <td>Distrito Federal</td>\n",
       "      <td>3250.0</td>\n",
       "      <td>6.0</td>\n",
       "      <td>Casa</td>\n",
       "      <td>possuí</td>\n",
       "      <td>Centro-Oeste</td>\n",
       "    </tr>\n",
       "    <tr>\n",
       "      <th>151173</th>\n",
       "      <td>Não</td>\n",
       "      <td>Sim</td>\n",
       "      <td>Distrito Federal</td>\n",
       "      <td>438.0</td>\n",
       "      <td>3.0</td>\n",
       "      <td>Casa</td>\n",
       "      <td>possuí</td>\n",
       "      <td>Centro-Oeste</td>\n",
       "    </tr>\n",
       "    <tr>\n",
       "      <th>151175</th>\n",
       "      <td>Sim</td>\n",
       "      <td>Sim</td>\n",
       "      <td>Distrito Federal</td>\n",
       "      <td>635.0</td>\n",
       "      <td>3.0</td>\n",
       "      <td>Casa</td>\n",
       "      <td>possuí</td>\n",
       "      <td>Centro-Oeste</td>\n",
       "    </tr>\n",
       "    <tr>\n",
       "      <th>151182</th>\n",
       "      <td>Sim</td>\n",
       "      <td>Sim</td>\n",
       "      <td>Distrito Federal</td>\n",
       "      <td>775.0</td>\n",
       "      <td>3.0</td>\n",
       "      <td>Casa</td>\n",
       "      <td>possuí</td>\n",
       "      <td>Centro-Oeste</td>\n",
       "    </tr>\n",
       "    <tr>\n",
       "      <th>151186</th>\n",
       "      <td>Sim</td>\n",
       "      <td>Sim</td>\n",
       "      <td>Distrito Federal</td>\n",
       "      <td>796.0</td>\n",
       "      <td>4.0</td>\n",
       "      <td>Casa</td>\n",
       "      <td>possuí</td>\n",
       "      <td>Centro-Oeste</td>\n",
       "    </tr>\n",
       "    <tr>\n",
       "      <th>151188</th>\n",
       "      <td>Sim</td>\n",
       "      <td>Sim</td>\n",
       "      <td>Distrito Federal</td>\n",
       "      <td>259.0</td>\n",
       "      <td>2.0</td>\n",
       "      <td>Casa</td>\n",
       "      <td>possuí</td>\n",
       "      <td>Centro-Oeste</td>\n",
       "    </tr>\n",
       "  </tbody>\n",
       "</table>\n",
       "<p>67834 rows × 8 columns</p>\n",
       "</div>"
      ],
      "text/plain": [
       "       acesso_a_banda_larga acesso por telefone            estado  \\\n",
       "2                       Sim                 Não          Rondônia   \n",
       "3                       Sim                 Sim          Rondônia   \n",
       "5                       Sim                 Não          Rondônia   \n",
       "8                       Sim                 Sim          Rondônia   \n",
       "10                      Sim                 Sim          Rondônia   \n",
       "11                      Sim                 Sim          Rondônia   \n",
       "13                      Sim                 Sim          Rondônia   \n",
       "15                      Sim                 Sim          Rondônia   \n",
       "17                      Sim                 Sim          Rondônia   \n",
       "18                      Sim                 Sim          Rondônia   \n",
       "19                      Não                 Não          Rondônia   \n",
       "20                      Sim                 Sim          Rondônia   \n",
       "23                      Sim                 Sim          Rondônia   \n",
       "27                      Sim                 Sim          Rondônia   \n",
       "28                      Sim                 Sim          Rondônia   \n",
       "29                      Sim                 Sim          Rondônia   \n",
       "31                      Sim                 Sim          Rondônia   \n",
       "32                      Não                 Não          Rondônia   \n",
       "33                      Não                 Não          Rondônia   \n",
       "37                      Não                 Sim          Rondônia   \n",
       "39                      Não                 Sim          Rondônia   \n",
       "42                      Não                 Não          Rondônia   \n",
       "43                      Não                 Não          Rondônia   \n",
       "44                      Não                 Sim          Rondônia   \n",
       "45                      Não                 Não          Rondônia   \n",
       "50                      Não                 Sim          Rondônia   \n",
       "54                      Não                 Sim          Rondônia   \n",
       "66                      Não                 Sim          Rondônia   \n",
       "71                      Sim                 Sim          Rondônia   \n",
       "72                      Não                 Sim          Rondônia   \n",
       "...                     ...                 ...               ...   \n",
       "151134                  Não                 Sim  Distrito Federal   \n",
       "151135                  Sim                 Sim  Distrito Federal   \n",
       "151139                  Sim                 Sim  Distrito Federal   \n",
       "151140                  Sim                 Sim  Distrito Federal   \n",
       "151142                  Não                 Sim  Distrito Federal   \n",
       "151143                  Sim                 Sim  Distrito Federal   \n",
       "151144                  Sim                 Sim  Distrito Federal   \n",
       "151146                  Não                 Sim  Distrito Federal   \n",
       "151147                  Sim                 Não  Distrito Federal   \n",
       "151148                  Não                 Sim  Distrito Federal   \n",
       "151150                  Não                 Sim  Distrito Federal   \n",
       "151151                  Não                 Sim  Distrito Federal   \n",
       "151153                  Não                 Sim  Distrito Federal   \n",
       "151156                  Não                 Sim  Distrito Federal   \n",
       "151158                  Sim                 Sim  Distrito Federal   \n",
       "151159                  Sim                 Sim  Distrito Federal   \n",
       "151161                  Sim                 Sim  Distrito Federal   \n",
       "151163                  Sim                 Sim  Distrito Federal   \n",
       "151164                  Sim                 Sim  Distrito Federal   \n",
       "151165                  Sim                 Sim  Distrito Federal   \n",
       "151167                  Sim                 Sim  Distrito Federal   \n",
       "151168                  Sim                 Sim  Distrito Federal   \n",
       "151169                  Sim                 Sim  Distrito Federal   \n",
       "151170                  Sim                 Sim  Distrito Federal   \n",
       "151171                  Sim                 Sim  Distrito Federal   \n",
       "151173                  Não                 Sim  Distrito Federal   \n",
       "151175                  Sim                 Sim  Distrito Federal   \n",
       "151182                  Sim                 Sim  Distrito Federal   \n",
       "151186                  Sim                 Sim  Distrito Federal   \n",
       "151188                  Sim                 Sim  Distrito Federal   \n",
       "\n",
       "        renda_mensal  faixa_da_renda_mensal Tipo_de_domicílio  \\\n",
       "2             1150.0                    4.0       Apartamento   \n",
       "3              793.0                    4.0              Casa   \n",
       "5             1990.0                    5.0              Casa   \n",
       "8              818.0                    4.0              Casa   \n",
       "10            1716.0                    5.0              Casa   \n",
       "11            2500.0                    6.0              Casa   \n",
       "13            1400.0                    4.0       Apartamento   \n",
       "15             666.0                    3.0       Apartamento   \n",
       "17             750.0                    3.0              Casa   \n",
       "18            1437.0                    4.0              Casa   \n",
       "19             600.0                    3.0              Casa   \n",
       "20             933.0                    4.0              Casa   \n",
       "23            2666.0                    6.0              Casa   \n",
       "27            3325.0                    6.0              Casa   \n",
       "28            3500.0                    6.0              Casa   \n",
       "29            1172.0                    4.0              Casa   \n",
       "31            3000.0                    6.0              Casa   \n",
       "32             366.0                    2.0              Casa   \n",
       "33             175.0                    1.0              Casa   \n",
       "37             596.0                    3.0              Casa   \n",
       "39             196.0                    1.0       Apartamento   \n",
       "42             975.0                    4.0              Casa   \n",
       "43             850.0                    4.0              Casa   \n",
       "44            2000.0                    5.0              Casa   \n",
       "45             480.0                    3.0              Casa   \n",
       "50             666.0                    3.0              Casa   \n",
       "54            2100.0                    5.0       Apartamento   \n",
       "66             635.0                    3.0              Casa   \n",
       "71             550.0                    3.0              Casa   \n",
       "72             590.0                    3.0              Casa   \n",
       "...              ...                    ...               ...   \n",
       "151134         571.0                    3.0              Casa   \n",
       "151135         416.0                    3.0              Casa   \n",
       "151139         394.0                    2.0              Casa   \n",
       "151140         525.0                    3.0              Casa   \n",
       "151142         452.0                    3.0              Casa   \n",
       "151143        2527.0                    6.0              Casa   \n",
       "151144        2500.0                    6.0              Casa   \n",
       "151146         950.0                    4.0              Casa   \n",
       "151147        1109.0                    4.0              Casa   \n",
       "151148         283.0                    2.0              Casa   \n",
       "151150        1427.0                    4.0              Casa   \n",
       "151151         355.0                    2.0              Casa   \n",
       "151153        1100.0                    4.0              Casa   \n",
       "151156        5000.0                    7.0              Casa   \n",
       "151158        5166.0                    7.0              Casa   \n",
       "151159        6066.0                    7.0              Casa   \n",
       "151161        6200.0                    7.0              Casa   \n",
       "151163        2500.0                    6.0              Casa   \n",
       "151164        6000.0                    7.0              Casa   \n",
       "151165        7600.0                    7.0              Casa   \n",
       "151167        9375.0                    7.0              Casa   \n",
       "151168       19850.0                    7.0              Casa   \n",
       "151169       10566.0                    7.0              Casa   \n",
       "151170       15320.0                    7.0              Casa   \n",
       "151171        3250.0                    6.0              Casa   \n",
       "151173         438.0                    3.0              Casa   \n",
       "151175         635.0                    3.0              Casa   \n",
       "151182         775.0                    3.0              Casa   \n",
       "151186         796.0                    4.0              Casa   \n",
       "151188         259.0                    2.0              Casa   \n",
       "\n",
       "       acesso_a_internet        Região  \n",
       "2                 possuí         Norte  \n",
       "3                 possuí         Norte  \n",
       "5                 possuí         Norte  \n",
       "8                 possuí         Norte  \n",
       "10                possuí         Norte  \n",
       "11                possuí         Norte  \n",
       "13                possuí         Norte  \n",
       "15                possuí         Norte  \n",
       "17                possuí         Norte  \n",
       "18                possuí         Norte  \n",
       "19                possuí         Norte  \n",
       "20                possuí         Norte  \n",
       "23                possuí         Norte  \n",
       "27                possuí         Norte  \n",
       "28                possuí         Norte  \n",
       "29                possuí         Norte  \n",
       "31                possuí         Norte  \n",
       "32                possuí         Norte  \n",
       "33                possuí         Norte  \n",
       "37                possuí         Norte  \n",
       "39                possuí         Norte  \n",
       "42                possuí         Norte  \n",
       "43                possuí         Norte  \n",
       "44                possuí         Norte  \n",
       "45                possuí         Norte  \n",
       "50                possuí         Norte  \n",
       "54                possuí         Norte  \n",
       "66                possuí         Norte  \n",
       "71                possuí         Norte  \n",
       "72                possuí         Norte  \n",
       "...                  ...           ...  \n",
       "151134            possuí  Centro-Oeste  \n",
       "151135            possuí  Centro-Oeste  \n",
       "151139            possuí  Centro-Oeste  \n",
       "151140            possuí  Centro-Oeste  \n",
       "151142            possuí  Centro-Oeste  \n",
       "151143            possuí  Centro-Oeste  \n",
       "151144            possuí  Centro-Oeste  \n",
       "151146            possuí  Centro-Oeste  \n",
       "151147            possuí  Centro-Oeste  \n",
       "151148            possuí  Centro-Oeste  \n",
       "151150            possuí  Centro-Oeste  \n",
       "151151            possuí  Centro-Oeste  \n",
       "151153            possuí  Centro-Oeste  \n",
       "151156            possuí  Centro-Oeste  \n",
       "151158            possuí  Centro-Oeste  \n",
       "151159            possuí  Centro-Oeste  \n",
       "151161            possuí  Centro-Oeste  \n",
       "151163            possuí  Centro-Oeste  \n",
       "151164            possuí  Centro-Oeste  \n",
       "151165            possuí  Centro-Oeste  \n",
       "151167            possuí  Centro-Oeste  \n",
       "151168            possuí  Centro-Oeste  \n",
       "151169            possuí  Centro-Oeste  \n",
       "151170            possuí  Centro-Oeste  \n",
       "151171            possuí  Centro-Oeste  \n",
       "151173            possuí  Centro-Oeste  \n",
       "151175            possuí  Centro-Oeste  \n",
       "151182            possuí  Centro-Oeste  \n",
       "151186            possuí  Centro-Oeste  \n",
       "151188            possuí  Centro-Oeste  \n",
       "\n",
       "[67834 rows x 8 columns]"
      ]
     },
     "execution_count": 6,
     "metadata": {},
     "output_type": "execute_result"
    }
   ],
   "source": [
    "dados_filt=pd.DataFrame()\n",
    "\n",
    "dados_t=dados_geral[(dados_geral.V0202.notnull()) & (dados_geral.V4622.notnull()) & (dados_geral.V4621.notnull()) & (dados_geral.V02426.notnull()) & (dados_geral.V4105.notnull()) & (dados_geral.V02425.notnull()) & (dados_geral.V02424.notnull()) & (dados_geral.V02327.notnull()) & (dados_geral.V02326.notnull()) & (dados_geral.V02325.notnull()) & (dados_geral.V02324.notnull())  & (dados_geral.V02323.notnull())  & (dados_geral.V02322.notnull())]\n",
    "\n",
    "#Criando colunas:\n",
    "dados_filt[\"acesso_a_banda_larga\"]=dados_t.V02426\n",
    "dados_filt[\"acesso por telefone\"]=dados_t.V02324\n",
    "dados_filt[\"estado\"]=dados_geral.UF\n",
    "dados_filt[\"renda_mensal\"]=dados_t.V4621\n",
    "dados_filt.renda_mensal=dados_filt.renda_mensal[dados_filt.renda_mensal!=999999999999]\n",
    "dados_filt[\"faixa_da_renda_mensal\"]=dados_t.V4622\n",
    "dados_filt[\"Tipo_de_domicílio\"]=dados_t.V0202\n",
    "#dados_filt[\"idade\"]=dados_t.V8005\n",
    "\n",
    "(dados_filt.renda_mensal).round(decimals=1)\n",
    "\n",
    "dados_filt.loc[(dados_geral.V02426=='Sim') | (dados_geral.V02425=='Sim') | (dados_geral.V02424=='Sim') | (dados_geral.V02327=='Sim') | (dados_geral.V02326=='Sim') | (dados_geral.V02325=='Sim') | (dados_geral.V02324=='Sim') | (dados_geral.V02323=='Sim') | (dados_geral.V02322=='Sim'), 'acesso_a_internet']='possuí'\n",
    "dados_filt.loc[(dados_geral.V02426=='Não') & (dados_geral.V02425=='Não') &  (dados_geral.V02424=='Não') &  (dados_geral.V02327=='Não') &  (dados_geral.V02326=='Não') &  (dados_geral.V02325=='Não') &  (dados_geral.V02324=='Não') &  (dados_geral.V02323=='Não') &  (dados_geral.V02322=='Não'), 'acesso_a_internet']='não possuí'\n",
    "\n",
    "dados_filt.loc[(dados_geral.UF==\"São Paulo\") | (dados_geral.UF==\"Rio de Janeiro\") | (dados_geral.UF==\"Espírito Santo\") | (dados_geral.UF==\"Minas Gerais\") ,\"Região\"]=\"Sudeste\"\n",
    "dados_filt.loc[(dados_geral.UF==\"Amazonas\") | (dados_geral.UF==\"Pará\") | (dados_geral.UF==\"Amapá\") | (dados_geral.UF==\"Tocantis\") | (dados_geral.UF==\"Rondônia\") | (dados_geral.UF==\"Roraima\") |  (dados_geral.UF==\"Acre\"),\"Região\"]=\"Norte\"\n",
    "dados_filt.loc[(dados_geral.UF==\"Bahia\") | (dados_geral.UF==\"Piauí\") | (dados_geral.UF==\"Maranhão\") | (dados_geral.UF==\"Ceará\") | (dados_geral.UF==\"Paraíba\") | (dados_geral.UF==\"Pernambuco\") | (dados_geral.UF==\"Alagoas\") | (dados_geral.UF==\"Sergipe\") | (dados_geral.UF==\"Rio Grande do Norte\"),\"Região\"]=\"Nordeste\"\n",
    "dados_filt.loc[(dados_geral.UF==\"Mato Grosso\") | (dados_geral.UF==\"Goiás\") | (dados_geral.UF==\"Mato Grosso do Sul\") | (dados_geral.UF==\"Distrito Federal\") ,\"Região\"]=\"Centro-Oeste\"\n",
    "dados_filt.loc[(dados_geral.UF==\"Rio Grande do Sul\") | (dados_geral.UF==\"Santa Catarina\") | (dados_geral.UF==\"Paraná\") ,\"Região\"]=\"Sul\"\n",
    "\n",
    "\n",
    "#plots:\n",
    "\n",
    "\n",
    "dados_filt\n"
   ]
  },
  {
   "cell_type": "code",
   "execution_count": null,
   "metadata": {
    "collapsed": true
   },
   "outputs": [],
   "source": []
  },
  {
   "cell_type": "code",
   "execution_count": 7,
   "metadata": {},
   "outputs": [
    {
     "name": "stdout",
     "output_type": "stream",
     "text": [
      "acesso absoluto a banda larga por região\n"
     ]
    },
    {
     "data": {
      "text/html": [
       "<div>\n",
       "<table border=\"1\" class=\"dataframe\">\n",
       "  <thead>\n",
       "    <tr style=\"text-align: right;\">\n",
       "      <th>Acesso:</th>\n",
       "      <th>Sim</th>\n",
       "      <th>Não</th>\n",
       "      <th>All</th>\n",
       "    </tr>\n",
       "    <tr>\n",
       "      <th>Região</th>\n",
       "      <th></th>\n",
       "      <th></th>\n",
       "      <th></th>\n",
       "    </tr>\n",
       "  </thead>\n",
       "  <tbody>\n",
       "    <tr>\n",
       "      <th>Centro-Oeste</th>\n",
       "      <td>5625</td>\n",
       "      <td>2124</td>\n",
       "      <td>7749</td>\n",
       "    </tr>\n",
       "    <tr>\n",
       "      <th>Nordeste</th>\n",
       "      <td>10771</td>\n",
       "      <td>5273</td>\n",
       "      <td>16044</td>\n",
       "    </tr>\n",
       "    <tr>\n",
       "      <th>Norte</th>\n",
       "      <td>3238</td>\n",
       "      <td>3994</td>\n",
       "      <td>7232</td>\n",
       "    </tr>\n",
       "    <tr>\n",
       "      <th>Sudeste</th>\n",
       "      <td>17625</td>\n",
       "      <td>6085</td>\n",
       "      <td>23710</td>\n",
       "    </tr>\n",
       "    <tr>\n",
       "      <th>Sul</th>\n",
       "      <td>9499</td>\n",
       "      <td>2831</td>\n",
       "      <td>12330</td>\n",
       "    </tr>\n",
       "    <tr>\n",
       "      <th>All</th>\n",
       "      <td>46758</td>\n",
       "      <td>20307</td>\n",
       "      <td>67065</td>\n",
       "    </tr>\n",
       "  </tbody>\n",
       "</table>\n",
       "</div>"
      ],
      "text/plain": [
       "Acesso:         Sim    Não    All\n",
       "Região                           \n",
       "Centro-Oeste   5625   2124   7749\n",
       "Nordeste      10771   5273  16044\n",
       "Norte          3238   3994   7232\n",
       "Sudeste       17625   6085  23710\n",
       "Sul            9499   2831  12330\n",
       "All           46758  20307  67065"
      ]
     },
     "execution_count": 7,
     "metadata": {},
     "output_type": "execute_result"
    }
   ],
   "source": [
    "#cruzar acesso a banda larga com região\n",
    "\n",
    "acesso_região=pd.crosstab(dados_filt.Região, dados_filt.acesso_a_banda_larga, margins=True, rownames=['Região'], colnames=['Acesso:'])\n",
    "\n",
    "print(\"acesso absoluto a banda larga por região\")\n",
    "\n",
    "acesso_região"
   ]
  },
  {
   "cell_type": "code",
   "execution_count": 8,
   "metadata": {},
   "outputs": [],
   "source": [
    "acesso_Sudeste_relt=pd.crosstab(dados_filt.Região[dados_filt.Região==\"Sudeste\"], dados_filt.acesso_a_banda_larga[dados_filt.Região==\"Sudeste\"], margins=True, rownames=['Região'], colnames=['Banda larga'], normalize=True)*100\n",
    "acesso_Sudeste_relt=acesso_Sudeste_relt.round(decimals=2)\n",
    "\n",
    "#print(\"Frequência relativa de acesso a banda larga no Sudeste:\")\n",
    "\n",
    "#acesso_Sudeste_relt"
   ]
  },
  {
   "cell_type": "code",
   "execution_count": 9,
   "metadata": {},
   "outputs": [
    {
     "data": {
      "image/png": "[encoded data removed]",
      "text/plain": [
       "<matplotlib.figure.Figure at 0x1cd07e6c780>"
      ]
     },
     "metadata": {},
     "output_type": "display_data"
    }
   ],
   "source": [
    "g_sud=acesso_Sudeste_relt.plot(kind=\"bar\")\n",
    "plt.ylabel=(\"Freq. Relat. (em %)\")\n",
    "#plt.show()"
   ]
  },
  {
   "cell_type": "code",
   "execution_count": 10,
   "metadata": {},
   "outputs": [
    {
     "name": "stdout",
     "output_type": "stream",
     "text": [
      "Frequência relativa de acesso a banda larga no Sudeste:\n"
     ]
    },
    {
     "data": {
      "image/png": "[encoded data removed]",
      "text/plain": [
       "<matplotlib.figure.Figure at 0x1cd131cfd30>"
      ]
     },
     "metadata": {},
     "output_type": "display_data"
    }
   ],
   "source": [
    "acesso_Sudeste_relt=pd.crosstab(dados_filt.Região[dados_filt.Região==\"Sudeste\"], dados_filt.acesso_a_banda_larga[dados_filt.Região==\"Sudeste\"], rownames=['Região'], colnames=['Banda larga'], normalize=\"index\")*100\n",
    "acesso_Sudeste_relt=acesso_Sudeste_relt.round(decimals=2)\n",
    "\n",
    "print(\"Frequência relativa de acesso a banda larga no Sudeste:\")\n",
    "\n",
    "g_sud=acesso_Sudeste_relt.plot(kind=\"bar\")\n",
    "plt.ylabel=(\"Freq. Relat. (em %)\")\n",
    "plt.show()"
   ]
  },
  {
   "cell_type": "code",
   "execution_count": 11,
   "metadata": {},
   "outputs": [
    {
     "name": "stdout",
     "output_type": "stream",
     "text": [
      "acesso a banda larga relativo por região\n"
     ]
    },
    {
     "data": {
      "text/html": [
       "<div>\n",
       "<table border=\"1\" class=\"dataframe\">\n",
       "  <thead>\n",
       "    <tr style=\"text-align: right;\">\n",
       "      <th>Banda larga</th>\n",
       "      <th>Sim</th>\n",
       "      <th>Não</th>\n",
       "    </tr>\n",
       "    <tr>\n",
       "      <th>Região</th>\n",
       "      <th></th>\n",
       "      <th></th>\n",
       "    </tr>\n",
       "  </thead>\n",
       "  <tbody>\n",
       "    <tr>\n",
       "      <th>Centro-Oeste</th>\n",
       "      <td>72.59</td>\n",
       "      <td>27.41</td>\n",
       "    </tr>\n",
       "    <tr>\n",
       "      <th>Nordeste</th>\n",
       "      <td>67.13</td>\n",
       "      <td>32.87</td>\n",
       "    </tr>\n",
       "    <tr>\n",
       "      <th>Norte</th>\n",
       "      <td>44.77</td>\n",
       "      <td>55.23</td>\n",
       "    </tr>\n",
       "    <tr>\n",
       "      <th>Sudeste</th>\n",
       "      <td>74.34</td>\n",
       "      <td>25.66</td>\n",
       "    </tr>\n",
       "    <tr>\n",
       "      <th>Sul</th>\n",
       "      <td>77.04</td>\n",
       "      <td>22.96</td>\n",
       "    </tr>\n",
       "    <tr>\n",
       "      <th>All</th>\n",
       "      <td>69.72</td>\n",
       "      <td>30.28</td>\n",
       "    </tr>\n",
       "  </tbody>\n",
       "</table>\n",
       "</div>"
      ],
      "text/plain": [
       "Banda larga     Sim    Não\n",
       "Região                    \n",
       "Centro-Oeste  72.59  27.41\n",
       "Nordeste      67.13  32.87\n",
       "Norte         44.77  55.23\n",
       "Sudeste       74.34  25.66\n",
       "Sul           77.04  22.96\n",
       "All           69.72  30.28"
      ]
     },
     "execution_count": 11,
     "metadata": {},
     "output_type": "execute_result"
    }
   ],
   "source": [
    "acesso_região_relat=pd.crosstab(dados_filt.Região, dados_filt.acesso_a_banda_larga, margins=True, rownames=['Região'], colnames=['Banda larga'], normalize=\"index\")*100\n",
    "acesso_região_relat=acesso_região_relat.round(decimals=2)\n",
    "\n",
    "print(\"acesso a banda larga relativo por região\")\n",
    "\n",
    "acesso_região_relat"
   ]
  },
  {
   "cell_type": "code",
   "execution_count": 12,
   "metadata": {},
   "outputs": [
    {
     "data": {
      "text/plain": [
       "<matplotlib.legend.Legend at 0x1cd133bd9e8>"
      ]
     },
     "execution_count": 12,
     "metadata": {},
     "output_type": "execute_result"
    },
    {
     "data": {
      "image/png": "[encoded data removed]",
      "text/plain": [
       "<matplotlib.figure.Figure at 0x1cd12cf4588>"
      ]
     },
     "metadata": {},
     "output_type": "display_data"
    }
   ],
   "source": [
    "\n",
    "graph=acesso_região_relat.plot(kind='bar', title=\"Acesso a banda larga relativo por Região\", color=[\"royalblue\", \"orangered\"])\n",
    "\n",
    "#legenda para fora:\n",
    "ax = plt.subplot(111)\n",
    "box = ax.get_position()\n",
    "ax.set_position([box.x0, box.y0, box.width * 0.8, box.height])\n",
    "ax.legend(loc='center left', bbox_to_anchor=(1, 0.5))\n"
   ]
  },
  {
   "cell_type": "code",
   "execution_count": 13,
   "metadata": {},
   "outputs": [
    {
     "data": {
      "text/html": [
       "<div>\n",
       "<table border=\"1\" class=\"dataframe\">\n",
       "  <thead>\n",
       "    <tr style=\"text-align: right;\">\n",
       "      <th>Tipo de domicílio</th>\n",
       "      <th>Casa</th>\n",
       "      <th>Apartamento</th>\n",
       "      <th>Cômodo</th>\n",
       "    </tr>\n",
       "    <tr>\n",
       "      <th>Região</th>\n",
       "      <th></th>\n",
       "      <th></th>\n",
       "      <th></th>\n",
       "    </tr>\n",
       "  </thead>\n",
       "  <tbody>\n",
       "    <tr>\n",
       "      <th>Centro-Oeste</th>\n",
       "      <td>85.21</td>\n",
       "      <td>14.36</td>\n",
       "      <td>0.43</td>\n",
       "    </tr>\n",
       "    <tr>\n",
       "      <th>Nordeste</th>\n",
       "      <td>86.13</td>\n",
       "      <td>13.77</td>\n",
       "      <td>0.11</td>\n",
       "    </tr>\n",
       "    <tr>\n",
       "      <th>Norte</th>\n",
       "      <td>90.50</td>\n",
       "      <td>8.68</td>\n",
       "      <td>0.82</td>\n",
       "    </tr>\n",
       "    <tr>\n",
       "      <th>Sudeste</th>\n",
       "      <td>78.59</td>\n",
       "      <td>21.30</td>\n",
       "      <td>0.11</td>\n",
       "    </tr>\n",
       "    <tr>\n",
       "      <th>Sul</th>\n",
       "      <td>79.59</td>\n",
       "      <td>20.34</td>\n",
       "      <td>0.06</td>\n",
       "    </tr>\n",
       "    <tr>\n",
       "      <th>All</th>\n",
       "      <td>82.63</td>\n",
       "      <td>17.16</td>\n",
       "      <td>0.21</td>\n",
       "    </tr>\n",
       "  </tbody>\n",
       "</table>\n",
       "</div>"
      ],
      "text/plain": [
       "Tipo de domicílio   Casa  Apartamento  Cômodo\n",
       "Região                                       \n",
       "Centro-Oeste       85.21        14.36    0.43\n",
       "Nordeste           86.13        13.77    0.11\n",
       "Norte              90.50         8.68    0.82\n",
       "Sudeste            78.59        21.30    0.11\n",
       "Sul                79.59        20.34    0.06\n",
       "All                82.63        17.16    0.21"
      ]
     },
     "execution_count": 13,
     "metadata": {},
     "output_type": "execute_result"
    }
   ],
   "source": [
    "#tipo de domicílio por Região:\n",
    "dom_reg_relat=pd.crosstab(dados_filt.Região, dados_filt.Tipo_de_domicílio,  margins=True, rownames=['Região'], colnames=['Tipo de domicílio'], normalize=\"index\")*100\n",
    "dom_reg_relat=dom_reg_relat.round(decimals=2)\n",
    "dom_reg_relat"
   ]
  },
  {
   "cell_type": "code",
   "execution_count": 14,
   "metadata": {},
   "outputs": [
    {
     "data": {
      "text/plain": [
       "<matplotlib.legend.Legend at 0x1cd133c3588>"
      ]
     },
     "execution_count": 14,
     "metadata": {},
     "output_type": "execute_result"
    },
    {
     "data": {
      "image/png": "[encoded data removed]",
      "text/plain": [
       "<matplotlib.figure.Figure at 0x1cd12c6a668>"
      ]
     },
     "metadata": {},
     "output_type": "display_data"
    }
   ],
   "source": [
    "\n",
    "graph=dom_reg_relat.plot(kind='bar', title=\"Tipo de domicílio por região\", color=[\"royalblue\", \"orangered\", \"grey\"])\n",
    "\n",
    "#legenda para fora:\n",
    "ax = plt.subplot(111)\n",
    "box = ax.get_position()\n",
    "ax.set_position([box.x0, box.y0, box.width * 0.8, box.height])\n",
    "ax.legend(loc='center left', bbox_to_anchor=(1, 0.5))\n"
   ]
  },
  {
   "cell_type": "markdown",
   "metadata": {},
   "source": [
    "## Obs:\n",
    "\n",
    "    Após primeira observação sobre os gráficos de tipo de domicílio por região e acesso a banda larga por região parece haver uma correlação entre acesso à banda larga e tipo de domicílio por região, assim pode-se dizer que provavelmente o tipo de domicílio é um dos fatores que afetam a presença de banda larga.\n",
    "    Vale comentar que apesar de haver uma proporção aparente, em que quanto maior a proporção de casas, menor é a presença de banda larga, vistos nos exemplos da região norte que possue a maior quantidade de casas e a menor presença de banda larga e região sul que possue a menor quantidade de casas e a maior presença de banda larga.\n",
    "(a mesma proporção se repete para a região nordeste e outras)\n",
    "Apesar de haver tal proporção fica claro que não é direta e que está deve estar relacionado a questões de infraestrutura dos estados e regiões."
   ]
  },
  {
   "cell_type": "code",
   "execution_count": null,
   "metadata": {
    "collapsed": true
   },
   "outputs": [],
   "source": []
  },
  {
   "cell_type": "code",
   "execution_count": 15,
   "metadata": {},
   "outputs": [
    {
     "data": {
      "text/plain": [
       "count     66332.000000\n",
       "mean       1590.508774\n",
       "std        2404.472403\n",
       "min           0.000000\n",
       "25%         525.000000\n",
       "50%         925.000000\n",
       "75%        1697.000000\n",
       "max      150000.000000\n",
       "Name: renda_mensal, dtype: float64"
      ]
     },
     "execution_count": 15,
     "metadata": {},
     "output_type": "execute_result"
    }
   ],
   "source": [
    "dados_filt.renda_mensal.describe()"
   ]
  },
  {
   "cell_type": "code",
   "execution_count": null,
   "metadata": {
    "collapsed": true
   },
   "outputs": [],
   "source": []
  },
  {
   "cell_type": "code",
   "execution_count": 16,
   "metadata": {},
   "outputs": [],
   "source": [
    "faixa = 100\n",
    "\n",
    "renda=pd.cut(dados_filt.renda_mensal[(dados_filt.Região==\"Sudeste\") & (dados_filt.renda_mensal<=30000)], bins=faixa, right=False)\n",
    "\n",
    "#ut1 = (renda.value_counts(sort=False, normalize=True)*100).round(decimals=1)\n",
    "#renda.head()"
   ]
  },
  {
   "cell_type": "code",
   "execution_count": 17,
   "metadata": {},
   "outputs": [
    {
     "data": {
      "image/png": "[encoded data removed]",
      "text/plain": [
       "<matplotlib.figure.Figure at 0x1cd131ac2e8>"
      ]
     },
     "metadata": {},
     "output_type": "display_data"
    }
   ],
   "source": [
    "\n",
    "#plot = dados_filt.renda_mensal[(dados_filt.Região==\"Sudeste\") & (dados_filt.renda_mensal<=10000)].plot.hist(bins=faixa, title='HISTOGRAMA - Renda - Sudeste',figsize=(6, 6), normed=1, alpha=0.5)\n",
    "\n",
    "plot = dados_filt.renda_mensal[(dados_filt.Região==\"Sudeste\") & (dados_filt.renda_mensal<=5000) & (dados_filt.renda_mensal>893)].plot(kind='box',title='Renda Mensal - Sudeste')#, color='red')"
   ]
  },
  {
   "cell_type": "code",
   "execution_count": 18,
   "metadata": {},
   "outputs": [
    {
     "data": {
      "text/plain": [
       "count    11816.000000\n",
       "mean      1890.217756\n",
       "std        986.126966\n",
       "min        894.000000\n",
       "25%       1150.000000\n",
       "50%       1525.000000\n",
       "75%       2333.000000\n",
       "max       5000.000000\n",
       "Name: renda_mensal, dtype: float64"
      ]
     },
     "execution_count": 18,
     "metadata": {},
     "output_type": "execute_result"
    }
   ],
   "source": [
    "dados_filt.renda_mensal[(dados_filt.Região==\"Sudeste\") & (dados_filt.renda_mensal<=5000) & (dados_filt.renda_mensal>893)].describe()"
   ]
  },
  {
   "cell_type": "code",
   "execution_count": 19,
   "metadata": {},
   "outputs": [
    {
     "data": {
      "image/png": "[encoded data removed]",
      "text/plain": [
       "<matplotlib.figure.Figure at 0x1cd12eb8278>"
      ]
     },
     "metadata": {},
     "output_type": "display_data"
    }
   ],
   "source": [
    "plot = dados_filt.renda_mensal[(dados_filt.Região==\"Sul\") & (dados_filt.renda_mensal<=5000) & (dados_filt.renda_mensal>893)].plot(kind='box',title='Renda Mensal - Sul')#, color='red')"
   ]
  },
  {
   "cell_type": "code",
   "execution_count": 20,
   "metadata": {},
   "outputs": [
    {
     "data": {
      "text/plain": [
       "count    7172.000000\n",
       "mean     1906.320273\n",
       "std       966.283303\n",
       "min       894.000000\n",
       "25%      1182.000000\n",
       "50%      1572.000000\n",
       "75%      2358.000000\n",
       "max      5000.000000\n",
       "Name: renda_mensal, dtype: float64"
      ]
     },
     "execution_count": 20,
     "metadata": {},
     "output_type": "execute_result"
    }
   ],
   "source": [
    "dados_filt.renda_mensal[(dados_filt.Região==\"Sul\") & (dados_filt.renda_mensal<=5000) & (dados_filt.renda_mensal>893)].describe()"
   ]
  },
  {
   "cell_type": "code",
   "execution_count": 21,
   "metadata": {},
   "outputs": [
    {
     "data": {
      "image/png": "[encoded data removed]",
      "text/plain": [
       "<matplotlib.figure.Figure at 0x1cd132a4fd0>"
      ]
     },
     "metadata": {},
     "output_type": "display_data"
    }
   ],
   "source": [
    "plot = dados_filt.renda_mensal[(dados_filt.Região==\"Norte\") & (dados_filt.renda_mensal<=5000) & (dados_filt.renda_mensal>350)].plot(kind='box',title='Renda Mensal - Norte')#, color='red')"
   ]
  },
  {
   "cell_type": "code",
   "execution_count": 22,
   "metadata": {},
   "outputs": [
    {
     "data": {
      "text/plain": [
       "count    5510.000000\n",
       "mean     1158.267877\n",
       "std       889.320107\n",
       "min       351.000000\n",
       "25%       550.000000\n",
       "50%       833.000000\n",
       "75%      1400.000000\n",
       "max      5000.000000\n",
       "Name: renda_mensal, dtype: float64"
      ]
     },
     "execution_count": 22,
     "metadata": {},
     "output_type": "execute_result"
    }
   ],
   "source": [
    "dados_filt.renda_mensal[(dados_filt.Região==\"Norte\") & (dados_filt.renda_mensal<=5000) & (dados_filt.renda_mensal>350)].describe()"
   ]
  },
  {
   "cell_type": "code",
   "execution_count": 23,
   "metadata": {},
   "outputs": [
    {
     "data": {
      "image/png": "[encoded data removed]",
      "text/plain": [
       "<matplotlib.figure.Figure at 0x1cd132f96d8>"
      ]
     },
     "metadata": {},
     "output_type": "display_data"
    }
   ],
   "source": [
    "plot = dados_filt.renda_mensal[(dados_filt.Região==\"Nordeste\") & (dados_filt.renda_mensal<=5000) & (dados_filt.renda_mensal>350)].plot(kind='box',title='Renda Mensal - Nordeste')#, color='red')"
   ]
  },
  {
   "cell_type": "code",
   "execution_count": 24,
   "metadata": {},
   "outputs": [
    {
     "data": {
      "text/plain": [
       "count    11906.000000\n",
       "mean      1118.404922\n",
       "std        888.091334\n",
       "min        351.000000\n",
       "25%        535.000000\n",
       "50%        788.000000\n",
       "75%       1300.000000\n",
       "max       5000.000000\n",
       "Name: renda_mensal, dtype: float64"
      ]
     },
     "execution_count": 24,
     "metadata": {},
     "output_type": "execute_result"
    }
   ],
   "source": [
    "dados_filt.renda_mensal[(dados_filt.Região==\"Nordeste\") & (dados_filt.renda_mensal<=5000) & (dados_filt.renda_mensal>350)].describe()"
   ]
  },
  {
   "cell_type": "code",
   "execution_count": 25,
   "metadata": {},
   "outputs": [
    {
     "data": {
      "image/png": "[encoded data removed]",
      "text/plain": [
       "<matplotlib.figure.Figure at 0x1cd13304588>"
      ]
     },
     "metadata": {},
     "output_type": "display_data"
    }
   ],
   "source": [
    "plot = dados_filt.renda_mensal[(dados_filt.Região==\"Centro-Oeste\") & (dados_filt.renda_mensal<=5000) & (dados_filt.renda_mensal>350)].plot(kind='box',title='Renda Mensal - Centro-Oeste')#, color='red')"
   ]
  },
  {
   "cell_type": "code",
   "execution_count": 26,
   "metadata": {},
   "outputs": [
    {
     "data": {
      "text/plain": [
       "count    6392.000000\n",
       "mean     1439.904568\n",
       "std      1027.981420\n",
       "min       352.000000\n",
       "25%       700.000000\n",
       "50%      1095.000000\n",
       "75%      1833.000000\n",
       "max      5000.000000\n",
       "Name: renda_mensal, dtype: float64"
      ]
     },
     "execution_count": 26,
     "metadata": {},
     "output_type": "execute_result"
    }
   ],
   "source": [
    "dados_filt.renda_mensal[(dados_filt.Região==\"Centro-Oeste\") & (dados_filt.renda_mensal<=5000) & (dados_filt.renda_mensal>350)].describe()"
   ]
  },
  {
   "cell_type": "code",
   "execution_count": null,
   "metadata": {},
   "outputs": [],
   "source": []
  },
  {
   "cell_type": "code",
   "execution_count": null,
   "metadata": {
    "collapsed": true
   },
   "outputs": [],
   "source": []
  },
  {
   "cell_type": "code",
   "execution_count": null,
   "metadata": {
    "collapsed": true
   },
   "outputs": [],
   "source": []
  },
  {
   "cell_type": "code",
   "execution_count": null,
   "metadata": {
    "collapsed": true
   },
   "outputs": [],
   "source": []
  },
  {
   "cell_type": "code",
   "execution_count": null,
   "metadata": {
    "collapsed": true
   },
   "outputs": [],
   "source": []
  },
  {
   "cell_type": "code",
   "execution_count": null,
   "metadata": {
    "collapsed": true
   },
   "outputs": [],
   "source": []
  },
  {
   "cell_type": "code",
   "execution_count": 27,
   "metadata": {
    "collapsed": true
   },
   "outputs": [],
   "source": [
    "dados.V02322=dados.V02322.astype(\"category\") #acesso no próprio domicílio\n",
    "dados.V02322.cat.categories=(['Sim', 'Não'])\n",
    "\n",
    "dados.V02323=dados.V02323.astype(\"category\") #acesso por microcomputador\n",
    "dados.V02323.cat.categories=(['Sim', 'Não'])\n",
    "\n",
    "dados.V02324=dados.V02324.astype(\"category\") #acesso por telefone\n",
    "dados.V02324.cat.categories=(['Sim', 'Não'])\n",
    "\n",
    "dados.V02325=dados.V02325.astype(\"category\") #acesso por tablet\n",
    "dados.V02325.cat.categories=(['Sim', 'Não'])\n",
    "\n",
    "dados.V02326=dados.V02326.astype(\"category\") #acesso pela TV\n",
    "dados.V02326.cat.categories=(['Sim', 'Não'])\n",
    "\n",
    "dados.V02327=dados.V02327.astype(\"category\") #acesso por outras formas\n",
    "dados.V02327.cat.categories=(['Sim', 'Não'])\n",
    "\n",
    "dados.V02424=dados.V02424.astype(\"category\") #acesso através de rede celular \n",
    "dados.V02424.cat.categories=(['Sim', 'Não'])\n",
    "\n",
    "dados.V02425=dados.V02425.astype(\"category\") #acesso por linha telefônica\n",
    "dados.V02425.cat.categories=(['Sim', 'Não'])\n",
    "\n",
    "dados.V02426=dados.V02426.astype(\"category\") #acesso de banda larga \n",
    "dados.V02426.cat.categories=(['Sim', 'Não'])\n",
    "\n"
   ]
  },
  {
   "cell_type": "code",
   "execution_count": 28,
   "metadata": {},
   "outputs": [],
   "source": [
    "dados_filtrado=pd.DataFrame()\n",
    "\n",
    "dados_temp=dados[(dados.V02426.notnull()) & (dados.V4105.notnull()) & (dados.V02425.notnull()) & (dados.V02424.notnull()) & (dados.V02327.notnull()) & (dados.V02326.notnull()) & (dados.V02325.notnull()) & (dados.V02324.notnull())  & (dados.V02323.notnull())  & (dados.V02322.notnull())]\n",
    "\n",
    "dados_filtrado[\"acesso_a_banda_larga\"]=dados_temp.V02426\n",
    "#dados_filtrado[\"acesso_no_domicilio\"]=dados_temp.V02322\n",
    "dados_filtrado[\"acesso por telefone\"]=dados_temp.V02324\n",
    "\n",
    "\n",
    "dados_filtrado.loc[(dados.V02426=='Sim') | (dados.V02425=='Sim') | (dados.V02424=='Sim') | (dados.V02327=='Sim') | (dados.V02326=='Sim') | (dados.V02325=='Sim') | (dados.V02324=='Sim') | (dados.V02323=='Sim') | (dados.V02322=='Sim'), 'acesso_a_internet']='possuí'\n",
    "dados_filtrado.loc[(dados.V02426=='Não') & (dados.V02425=='Não') &  (dados.V02424=='Não') &  (dados.V02327=='Não') &  (dados.V02326=='Não') &  (dados.V02325=='Não') &  (dados.V02324=='Não') &  (dados.V02323=='Não') &  (dados.V02322=='Não'), 'acesso_a_internet']='não possuí'\n",
    "\n",
    "dados_filtrado.loc[(dados.UF==35), 'Região']=\"São Paulo\"\n",
    "dados_filtrado.loc[(dados.UF==21), 'Região']=\"Maranhão\"\n",
    "\n",
    "\n",
    "#plots:\n",
    "banda_larga=dados_filtrado.acesso_a_banda_larga.value_counts(sort=False)\n",
    "\n",
    "acesso_geral=dados_filtrado.acesso_a_internet.value_counts(sort=False)\n",
    "\n",
    "#acesso_domiciliar=dados_filtrado.acesso_no_domicilio.value_counts(sort=False)\n",
    "# banda larga em SP:\n",
    "banda_larga_SP=dados_filtrado.acesso_a_banda_larga[(dados_filtrado.Região==\"São Paulo\")].value_counts(sort=False)\n",
    "#banda larga no Amazonas:\n",
    "banda_larga_MA=dados_filtrado.acesso_a_banda_larga[(dados_filtrado.Região==\"Maranhão\")].value_counts(sort=False)\n",
    "\n",
    "\n",
    "#dados_filtrado"
   ]
  },
  {
   "cell_type": "code",
   "execution_count": null,
   "metadata": {
    "collapsed": true
   },
   "outputs": [],
   "source": []
  },
  {
   "cell_type": "code",
   "execution_count": 29,
   "metadata": {
    "scrolled": true
   },
   "outputs": [],
   "source": [
    "#print(\"frequência absoluta de acesso à banda larga em SP\")\n",
    "banda_larga_SP=dados_filtrado.acesso_a_banda_larga[(dados_filtrado.Região==\"São Paulo\")].value_counts(sort=False)\n",
    "#print(banda_larga_SP, '\\n')\n"
   ]
  },
  {
   "cell_type": "code",
   "execution_count": 30,
   "metadata": {
    "collapsed": true
   },
   "outputs": [],
   "source": [
    "#banda_larga=dados_filtrado.acesso_a_banda_larga.value_counts(sort=False)\n",
    "\n",
    "#plot=banda_larga.plot(kind='pie', title='Acesso a banda larga',legend=(\"possuí\",\"não possuí\"),autopct='%.1f',figsize=(5,5))\n",
    "\n",
    "#função plt.subplot serve para colocar vários gráficos\n",
    "#na mesma imagem para fins de comporação."
   ]
  },
  {
   "cell_type": "code",
   "execution_count": 31,
   "metadata": {},
   "outputs": [],
   "source": [
    "#plot=acesso_geral.plot(kind='pie', title='Acesso de à internet qualquer forma disponível',legend=(\"possuí\",\"não possuí\"),autopct='%.1f',figsize=(5,5))\n",
    "\n",
    "\n",
    "# 100% das pessoas possui acesso à internet de alguma forma."
   ]
  },
  {
   "cell_type": "code",
   "execution_count": 32,
   "metadata": {
    "collapsed": true
   },
   "outputs": [],
   "source": [
    "#plot=acesso_domiciliar.plot(kind='pie', title='Acesso à internet no domicílio',legend=(\"possuí\",\"não possuí\"),autopct='%.1f',figsize=(5,5))\n",
    "\n",
    "# 100% dos pesquisados possuem acesso à internet em seus domicílios."
   ]
  },
  {
   "cell_type": "code",
   "execution_count": 33,
   "metadata": {},
   "outputs": [
    {
     "data": {
      "image/png": "[encoded data removed]",
      "text/plain": [
       "<matplotlib.figure.Figure at 0x1cd12f699e8>"
      ]
     },
     "metadata": {},
     "output_type": "display_data"
    }
   ],
   "source": [
    "plot=banda_larga_SP.plot(kind='pie', title='Acesso a banda larga em SP',legend=(\"possuí\",\"não possuí\"),autopct='%.1f',figsize=(5,5))\n",
    "\n",
    "#acesso a banda larga em SP"
   ]
  },
  {
   "cell_type": "code",
   "execution_count": 34,
   "metadata": {},
   "outputs": [
    {
     "data": {
      "image/png": "[encoded data removed]",
      "text/plain": [
       "<matplotlib.figure.Figure at 0x1cd134edba8>"
      ]
     },
     "metadata": {},
     "output_type": "display_data"
    }
   ],
   "source": [
    "fig = plt.figure(figsize=(15,5))\n",
    "\n",
    "plt.subplot(131)\n",
    "plot = banda_larga_SP.plot(kind='pie',title='Banda larga em São Paulo',autopct='%.1f')\n",
    "\n",
    "plt.subplot(132)\n",
    "plot = banda_larga_MA.plot(kind='pie',title='Banda larga no Maranhão',autopct='%.1f')\n",
    "\n",
    "\n",
    "plt.tight_layout()\n",
    "plt.show()"
   ]
  },
  {
   "cell_type": "markdown",
   "metadata": {},
   "source": [
    "## Obs:\n",
    "\n",
    "    O gráfico acima ajuda a reforçar análises anteriores, em que o PIB de um estado ou região, a proporção entre casas e apartamentos da mesma afeta a presença de de banda larga.\n",
    "Por exemplo: o estado de SP como o mais rico e mais urbanizado de todos, apresenta a maior presença de banda larga, ou seja se mostra como o estado mais bem estruturado e economicamente estável, enquanto Maranhão que é um estado com o menor PIB do Brasil e com baixa urbanização mostra baixíssima presença de banda larga. Note no entando que apesar de ser o estado com menor PIB não é o estado com menor urbanização demonstrando assim de forma muito explícita que fatores como renda da população podem afetar fortemente a presença de banda larga assim como o grau de urbanização. Desta forma pode-se aprofundar a análise, concluindo que a presença de banda larga é um fenômeno complexo, que não depende primariamente de apenas um fator, mas sim de vários fatores que podem ser vistos tanto como independentes como interligados; \n",
    "    Veja: uma região pode ter alto urbanização o que permite a venda de banda larga, porém se a renda per capita média for baixa, a população não irá adquirir banda larga. (note que o inverso também é verdadeiro, pode haver dinheiro mas não adianta se não houver estrurura).\n",
    "    Note que geralmente estes dois fatores: PIB alto e urbanização estão ligados mas está relação\n",
    "    "
   ]
  },
  {
   "cell_type": "markdown",
   "metadata": {},
   "source": [
    "___\n",
    "## Conclusão "
   ]
  },
  {
   "cell_type": "markdown",
   "metadata": {},
   "source": [
    "Descreva aqui suas conclusões!"
   ]
  }
 ],
 "metadata": {
  "kernelspec": {
   "display_name": "Python 3",
   "language": "python",
   "name": "python3"
  },
  "language_info": {
   "codemirror_mode": {
    "name": "ipython",
    "version": 3
   },
   "file_extension": ".py",
   "mimetype": "text/x-python",
   "name": "python",
   "nbconvert_exporter": "python",
   "pygments_lexer": "ipython3",
   "version": "3.6.0"
  }
 },
 "nbformat": 4,
 "nbformat_minor": 2
}
